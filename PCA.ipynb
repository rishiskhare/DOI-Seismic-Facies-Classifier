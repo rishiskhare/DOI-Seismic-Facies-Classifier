{
 "cells": [
  {
   "cell_type": "code",
   "execution_count": null,
   "metadata": {},
   "outputs": [],
   "source": [
    "## Note: seismic_profile, RMS_amplitude, first derivative, generalized spectral decomposition, \n",
    "import numpy as np\n",
    "import pandas as pd \n",
    "import seaborn as sns \n",
    "from matplotlib import pyplot as plt\n",
    "import matplotlib.image as mpimg\n",
    "from sklearn.cluster import KMeans\n",
    "from sklearn import preprocessing\n",
    "from sklearn.decomposition import PCA\n",
    "from PIL import Image\n",
    "import segyio\n",
    "# import cv2 \n",
    "\n",
    "import os"
   ]
  },
  {
   "cell_type": "code",
   "execution_count": null,
   "metadata": {},
   "outputs": [],
   "source": [
    "path = '/Users/rishikhare/Downloads/DOI-SeismicFacies/Seismic_files'"
   ]
  },
  {
   "cell_type": "code",
   "execution_count": null,
   "metadata": {},
   "outputs": [],
   "source": [
    "data_types = []\n",
    "for file in os.listdir(path):\n",
    "  data_types.append(file)\n",
    "\n",
    "feature_list = ['local_structural_dip', 'RMS_amplitude', 'generalized_spectral_decomposition', 'variance', 'flatness', 'dominant_freq', 'seismic_profile', 'first_derivative', \n",
    "                'instantaneous_phase', 'instantaneous_freq', 'amplitude_contrast', 'chaos', 'iso_freq_54hz', 'gradient_magnitude']\n",
    "\n",
    "data_types"
   ]
  },
  {
   "cell_type": "code",
   "execution_count": null,
   "metadata": {},
   "outputs": [],
   "source": [
    "temp = []\n",
    "\n",
    "for file in os.listdir(path):\n",
    "  with segyio.open(os.path.join(path, file), strict=False) as s:\n",
    "    _data = np.stack(t.astype(float) for t in s.trace)\n",
    "  temp.append(_data)\n",
    "\n",
    "tuples = [(key, value) for i, (key, value) in enumerate(zip(feature_list, temp))]\n",
    "data = dict(tuples)"
   ]
  },
  {
   "cell_type": "code",
   "execution_count": null,
   "metadata": {},
   "outputs": [],
   "source": [
    "seis_df_v = pd.DataFrame(data['seismic_profile'].T)\n",
    "plt.subplot(1,2,1)\n",
    "vertical_slice = seis_df_v[0].plot.line(figsize=(15, 5))\n",
    "plt.title('Vertical Slice (index 0)')\n",
    "\n",
    "seis_df_h = pd.DataFrame(data['seismic_profile'])\n",
    "plt.subplot(1,2,2)\n",
    "horizontal_slice = seis_df_h[600].plot.line(figsize=(15,5))\n",
    "plt.title('Horizontal Slice (index 600)')\n",
    "\n"
   ]
  },
  {
   "cell_type": "code",
   "execution_count": null,
   "metadata": {},
   "outputs": [],
   "source": [
    "n = 10\n",
    "fig, axs = plt.subplots(n, figsize=(20,20))\n",
    "fig.suptitle('Vertical Slices')\n",
    "for i in range(n):\n",
    "    axs[i].plot(seis_df_v[i].values)\n",
    "    axs[i].set_title('index ' + str(i))\n",
    "fig.tight_layout(pad=2.0)\n",
    "plt.show()"
   ]
  },
  {
   "cell_type": "code",
   "execution_count": null,
   "metadata": {},
   "outputs": [],
   "source": [
    "n = 10\n",
    "fig, axs = plt.subplots(n, figsize=(25,25))\n",
    "fig.suptitle('Horizontal Slices')\n",
    "for i in range(n):\n",
    "    axs[i].plot(seis_df_h[i+600].values)\n",
    "    axs[i].set_title('index ' + str(i+600))\n",
    "fig.tight_layout(pad=2.0)\n",
    "plt.show()"
   ]
  },
  {
   "cell_type": "code",
   "execution_count": null,
   "metadata": {},
   "outputs": [],
   "source": [
    "_dfs = []\n",
    "\n",
    "for key in data.keys():\n",
    "  _df = pd.DataFrame(data[key]).stack().rename_axis(['X', 'Y']).reset_index(name=key)\n",
    "  _dfs.append(_df)"
   ]
  },
  {
   "cell_type": "code",
   "execution_count": null,
   "metadata": {},
   "outputs": [],
   "source": [
    "dfs = [df.set_index(['X', 'Y']) for df in _dfs]\n",
    "final_df = pd.concat(dfs, axis=1).reset_index()"
   ]
  },
  {
   "cell_type": "code",
   "execution_count": null,
   "metadata": {},
   "outputs": [],
   "source": [
    "pd.set_option('float_format', '{:f}'.format)\n",
    "final_df.describe()"
   ]
  },
  {
   "cell_type": "code",
   "execution_count": null,
   "metadata": {},
   "outputs": [],
   "source": [
    "pca = PCA()\n",
    "principle_components = pca.fit_transform(final_df[feature_list])\n",
    "pca_df = pd.DataFrame(data=principle_components)\n",
    "\n",
    "pca_df"
   ]
  },
  {
   "cell_type": "code",
   "execution_count": null,
   "metadata": {},
   "outputs": [],
   "source": [
    "variance_ratios = pca.explained_variance_ratio_\n",
    "plt.bar(range(len(variance_ratios)), variance_ratios)\n",
    "plt.title('Percentage Variance Explained by Component')\n",
    "plt.xlabel('Components')\n",
    "plt.xticks(np.arange(0,14))\n",
    "plt.ylabel('Percentage Variance')"
   ]
  },
  {
   "cell_type": "code",
   "execution_count": null,
   "metadata": {},
   "outputs": [],
   "source": [
    "plt.scatter(pca_df.iloc[:,0], pca_df.iloc[:,1], s=1)"
   ]
  },
  {
   "cell_type": "code",
   "execution_count": null,
   "metadata": {},
   "outputs": [],
   "source": [
    "scaler = preprocessing.StandardScaler()\n",
    "features_scaled = pd.DataFrame(scaler.fit_transform(final_df[feature_list]), columns=feature_list)\n",
    "features_scaled"
   ]
  },
  {
   "cell_type": "code",
   "execution_count": null,
   "metadata": {},
   "outputs": [],
   "source": [
    "scaled_pca = PCA()\n",
    "scaled_principle_components = scaled_pca.fit_transform(features_scaled)\n",
    "scaled_pca_df = pd.DataFrame(data=scaled_principle_components)\n",
    "scaled_pca_df"
   ]
  },
  {
   "cell_type": "code",
   "execution_count": null,
   "metadata": {},
   "outputs": [],
   "source": [
    "scaled_variance_ratios = pca.explained_variance_ratio_\n",
    "plt.bar(range(len(scaled_variance_ratios)), scaled_variance_ratios)\n",
    "plt.title('Percentage Variance Explained by Component')\n",
    "plt.xlabel('Components')\n",
    "plt.xticks(np.arange(0,14))\n",
    "plt.ylabel('Percentage Variance')"
   ]
  },
  {
   "cell_type": "code",
   "execution_count": null,
   "metadata": {},
   "outputs": [],
   "source": [
    "plt.scatter(scaled_pca_df.iloc[:,0], scaled_pca_df.iloc[:,1], s=1)"
   ]
  },
  {
   "cell_type": "code",
   "execution_count": null,
   "metadata": {},
   "outputs": [],
   "source": [
    "# Set data clip for better viewing\n",
    "clip_percentile = 96\n",
    "vm = np.percentile(data['seismic_profile'].T, clip_percentile)\n",
    "\n",
    "# Plot with Matplotlib\n",
    "plt.figure(figsize=(25,10))\n",
    "plt.axes().set_axis_off()                                      \n",
    "plt.imshow(data['seismic_profile'].T, cmap=\"gray\", vmin=-vm, vmax=vm, aspect='auto')           \n",
    "plt.ylim([1000, 0])                                             \n",
    "plt.savefig('WNC82_017_seismic_profile', bbox_inches='tight', pad_inches=0)\n",
    "plt.show()"
   ]
  },
  {
   "cell_type": "code",
   "execution_count": null,
   "metadata": {},
   "outputs": [],
   "source": [
    "from skimage.feature import canny\n",
    "from skimage.filters import sobel\n",
    "from skimage import data,morphology\n",
    "from skimage.segmentation import watershed\n",
    "from skimage.color import rgb2gray,label2rgb\n",
    "import scipy.ndimage as nd\n",
    "\n",
    "# load images and convert grayscale\n",
    "img = np.asarray(Image.open('WNC82_017_seismic_profile.png'))\n",
    "im = cv2.imread('WNC82_017_seismic_profile.png')\n",
    "im = cv2.cvtColor(im, cv2.COLOR_BGR2GRAY)\n",
    "WNC82_017 = im\n",
    "\n",
    "# apply edge segmentation\n",
    "# plot canny edge detection\n",
    "edges = canny(WNC82_017)\n",
    "plt.imshow(edges, interpolation='gaussian')\n",
    "plt.title('Canny detector')\n",
    "\n",
    "# fill regions to perform edge segmentation\n",
    "fill_im = nd.binary_fill_holes(edges)\n",
    "plt.imshow(fill_im)\n",
    "plt.title('Region Filling')\n",
    "\n",
    "# Region Segmentation\n",
    "# First we print the elevation map\n",
    "elevation_map = sobel(WNC82_017)\n",
    "plt.imshow(elevation_map)\n",
    "\n",
    "# Since, the contrast difference is not much. Anyways we will perform it\n",
    "markers = np.zeros_like(WNC82_017)\n",
    "markers[WNC82_017 < 0.1171875] = 1 # 30/255\n",
    "markers[WNC82_017 > 0.5859375] = 2 # 150/255\n",
    "\n",
    "plt.imshow(markers)\n",
    "plt.title('markers')\n",
    "\n",
    "# Perform watershed region segmentation\n",
    "segmentation = watershed(elevation_map, markers)\n",
    "\n",
    "plt.imshow(segmentation)\n",
    "plt.title('Watershed segmentation')\n",
    "\n",
    "# plot overlays and contour\n",
    "segmentation = nd.binary_fill_holes(segmentation - 1)\n",
    "label_rock, _ = nd.label(segmentation)\n",
    "# overlay image with different labels\n",
    "image_label_overlay = label2rgb(label_rock, image=WNC82_017)\n",
    "\n",
    "fig, (ax1, ax2) = plt.subplots(1, 2, figsize=(24, 16), sharey=True)\n",
    "ax1.imshow(WNC82_017)\n",
    "ax1.contour(segmentation, [0.8], linewidths=1.8, colors='w')\n",
    "ax2.imshow(image_label_overlay)\n",
    "\n"
   ]
  },
  {
   "cell_type": "code",
   "execution_count": null,
   "metadata": {},
   "outputs": [],
   "source": [
    "# Importing required boundaries\n",
    "from skimage.segmentation import slic, mark_boundaries\n",
    "\n",
    "# Setting the plot figure as 15, 15\n",
    "plt.figure(figsize=(15, 15))\n",
    "\n",
    "# Sample Image of scikit-image package\n",
    "img = WNC82_017 \n",
    "\n",
    "# Applying SLIC segmentation\n",
    "# for the edges to be drawn over\n",
    "segments = slic(img, n_segments=100, compactness=1)\n",
    "\n",
    "plt.subplot(1, 2, 1)\n",
    "\n",
    "# Plotting the original image\n",
    "plt.imshow(img)\n",
    "\n",
    "# Detecting boundaries for labels\n",
    "plt.subplot(1, 2, 2)\n",
    "\n",
    "# Plotting the output of marked_boundaries\n",
    "# function i.e. the image with segmented boundaries\n",
    "plt.imshow(mark_boundaries(img, segments))\n",
    "\n"
   ]
  },
  {
   "cell_type": "code",
   "execution_count": null,
   "metadata": {},
   "outputs": [],
   "source": [
    "# Importing required libraries\n",
    "from skimage.segmentation import slic\n",
    "from skimage.color import label2rgb\n",
    "\n",
    "# Setting the plot size as 15, 15\n",
    "plt.figure(figsize=(15,15))\n",
    "\n",
    "# Sample Image of scikit-image package\n",
    "img = WNC82_017\n",
    "\n",
    "# Applying Simple Linear Iterative\n",
    "# Clustering on the image\n",
    "# - 50 segments & compactness = 10\n",
    "img_segments = slic(img,\n",
    "\t\t\t\t\t\tn_segments=50,\n",
    "\t\t\t\t\t\tcompactness=10)\n",
    "plt.subplot(1,2,1)\n",
    "\n",
    "# Plotting the original image\n",
    "plt.imshow(img)\n",
    "plt.subplot(1,2,2)\n",
    "\n",
    "# Converts a label image into\n",
    "# an RGB color image for visualizing\n",
    "# the labeled regions.\n",
    "plt.imshow(label2rgb(img_segments,\n",
    "\t\t\t\t\timg,\n",
    "\t\t\t\t\tkind = 'avg'))\n",
    "\n"
   ]
  },
  {
   "cell_type": "code",
   "execution_count": null,
   "metadata": {},
   "outputs": [],
   "source": [
    "# SEGMENTATION\n",
    "import numpy as np\n",
    "import cv2\n",
    "from matplotlib import pyplot as plt\n",
    "\n",
    "img = cv2.imread('WNC82_017_seismic_profile.png')\n",
    "b,g,r = cv2.split(img)\n",
    "rgb_img = cv2.merge([r,g,b])\n",
    "gray = cv2.cvtColor(img,cv2.COLOR_BGR2GRAY)\n",
    "ret, thresh = cv2.threshold(gray,0,255,cv2.THRESH_BINARY_INV+cv2.THRESH_OTSU)\n",
    "# noise removal\n",
    "kernel = np.ones((2,2),np.uint8)\n",
    "opening = cv2.morphologyEx(thresh,cv2.MORPH_OPEN,kernel, iterations = 2)\n",
    "closing = cv2.morphologyEx(thresh,cv2.MORPH_CLOSE,kernel, iterations = 2)\n",
    "# sure background area\n",
    "sure_bg = cv2.dilate(closing,kernel,iterations=3)\n",
    "# Finding sure foreground area\n",
    "dist_transform = cv2.distanceTransform(sure_bg,cv2.DIST_L2,3)\n",
    "# Threshold\n",
    "ret, sure_fg = cv2.threshold(dist_transform,0.1*dist_transform.max(),255,0)\n",
    "# Finding unknown region\n",
    "sure_fg = np.uint8(sure_fg)\n",
    "unknown = cv2.subtract(sure_bg,sure_fg)\n",
    "# Marker labelling\n",
    "ret, markers = cv2.connectedComponents(sure_fg)\n",
    "# Add one to all labels so that sure background is not 0, but 1\n",
    "markers = markers+1\n",
    "# Now, mark the region of unknown with zero\n",
    "markers[unknown==255] = 0\n",
    "markers = cv2.watershed(img,markers)\n",
    "img[markers == -1] = [255,0,0]\n",
    "plt.subplot(211),plt.imshow(rgb_img)\n",
    "plt.title('Input Image'), plt.xticks([]), plt.yticks([])\n",
    "plt.subplot(212),plt.imshow(thresh, 'gray')\n",
    "# plt.imsave(r'thresh.png',thresh)\n",
    "plt.title(\"Otsu's binary threshold\"), plt.xticks([]), plt.yticks([])\n",
    "plt.tight_layout()\n",
    "plt.show()"
   ]
  },
  {
   "cell_type": "code",
   "execution_count": null,
   "metadata": {},
   "outputs": [],
   "source": [
    "from skimage.filters import gaussian\n",
    "gaussian_blur = gaussian(WNC82_017, sigma=1)"
   ]
  },
  {
   "cell_type": "code",
   "execution_count": null,
   "metadata": {},
   "outputs": [],
   "source": [
    "plt.imshow(gaussian_blur)"
   ]
  },
  {
   "cell_type": "code",
   "execution_count": null,
   "metadata": {},
   "outputs": [],
   "source": [
    "from sklearn.cluster import KMeans\n",
    "\n",
    "for k in np.arange(10):\n",
    "  X = ??\n",
    "  kmeans = KMeans(n_clusters=k, random_state=0, n_init=\"auto\").fit(X)\n",
    "  kmeans.labels_"
   ]
  },
  {
   "cell_type": "code",
   "execution_count": null,
   "metadata": {},
   "outputs": [],
   "source": [
    "kmeans.predict([[0, 0], [12, 3]])"
   ]
  },
  {
   "cell_type": "code",
   "execution_count": null,
   "metadata": {},
   "outputs": [],
   "source": [
    "kmeans.cluster_centers_"
   ]
  }
 ],
 "metadata": {
  "kernelspec": {
   "display_name": "DSDP-BOEM",
   "language": "python",
   "name": "python3"
  },
  "language_info": {
   "codemirror_mode": {
    "name": "ipython",
    "version": 3
   },
   "file_extension": ".py",
   "mimetype": "text/x-python",
   "name": "python",
   "nbconvert_exporter": "python",
   "pygments_lexer": "ipython3",
   "version": "3.10.0"
  },
  "orig_nbformat": 4,
  "vscode": {
   "interpreter": {
    "hash": "d1b597cb1eb657c8d5a631106cc31c2beac301c87c9c86b921fce7f096c4ff1b"
   }
  }
 },
 "nbformat": 4,
 "nbformat_minor": 2
}
